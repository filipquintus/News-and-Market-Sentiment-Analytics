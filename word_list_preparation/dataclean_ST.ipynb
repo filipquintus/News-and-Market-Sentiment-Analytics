{
 "cells": [
  {
   "cell_type": "code",
   "execution_count": 1,
   "id": "18ca6350-2510-45ad-98ca-a93593c0247e",
   "metadata": {},
   "outputs": [],
   "source": [
    "#Load packeges:\n",
    "\n",
    "import spacy\n",
    "import pandas as pd\n",
    "from sentence_transformers import SentenceTransformer \n",
    "import kagglehub\n",
    "from gensim.models import KeyedVectors\n",
    "import numpy as np\n",
    "from sklearn.metrics.pairwise import cosine_similarity\n",
    "\n",
    "\n",
    "#Model to extract class of words\n",
    "nlp = spacy.load(\"en_core_web_sm\")\n",
    "\n",
    "#Model for embedding\n",
    "ST_model = SentenceTransformer('all-MiniLM-L6-v2')\n"
   ]
  },
  {
   "cell_type": "code",
   "execution_count": 2,
   "id": "c7a1e763-0700-4958-80d4-597fcc176634",
   "metadata": {},
   "outputs": [],
   "source": [
    "# Word embedding:\n",
    "\n",
    "def embedding_function(word):\n",
    "    embedded_word = ST_model.encode(word)\n",
    "    return embedded_word\n"
   ]
  },
  {
   "cell_type": "code",
   "execution_count": 5,
   "id": "d66830f4-51b9-4d32-ab96-8a34f44528ef",
   "metadata": {},
   "outputs": [],
   "source": [
    "# load list of words\n",
    "with open(\"data/MIT_word_list.txt\", 'r') as file:\n",
    "    word_list = [line.strip() for line in file]  # Remove trailing newlines and spaces\n",
    "\n"
   ]
  },
  {
   "cell_type": "code",
   "execution_count": 4,
   "id": "04349423-6460-42b7-840d-d8e151f5ab6a",
   "metadata": {},
   "outputs": [
    {
     "name": "stdout",
     "output_type": "stream",
     "text": [
      "10000\n"
     ]
    }
   ],
   "source": [
    "print(len(word_list))"
   ]
  },
  {
   "cell_type": "code",
   "execution_count": 32,
   "id": "ec794ee7-09ab-4871-a26b-b57a7b33a770",
   "metadata": {
    "scrolled": true
   },
   "outputs": [],
   "source": [
    "#Extracts the nouns and reduces words to base form\n",
    "nouns = []\n",
    "\n",
    "for word in word_list:\n",
    "    doc = nlp(word)  \n",
    "    for token in doc:  # Iterate through tokens in the processed word\n",
    "        word_base = token.lemma_  # Extract the base form \n",
    "        pos_tag = token.pos_  # Extract word class tag\n",
    "        if pos_tag == \"NOUN\":\n",
    "            nouns.append(word_base)  # Append to nouns if it's a noun\n",
    "\n",
    "# Removes dublicates from list:\n",
    "nouns = list(set(nouns))"
   ]
  },
  {
   "cell_type": "code",
   "execution_count": 33,
   "id": "a40c3901-fca3-4b40-bdd6-a8067a48e2fb",
   "metadata": {},
   "outputs": [
    {
     "name": "stdout",
     "output_type": "stream",
     "text": [
      "3595\n"
     ]
    }
   ],
   "source": [
    "\n",
    "print(len(nouns))"
   ]
  },
  {
   "cell_type": "code",
   "execution_count": 34,
   "id": "b051aa35-9625-4843-abb4-52efca880c7e",
   "metadata": {},
   "outputs": [],
   "source": [
    "#Embedding all the nouns and adding both embeddings and word to lists\n",
    "\n",
    "embeddings = []\n",
    "embedded_words = []\n",
    "\n",
    "for word in nouns:\n",
    "    try:\n",
    "        current_embedded_word = ST_model.encode(word)\n",
    "        embeddings.append(current_embedded_word)\n",
    "        embedded_words.append(word)\n",
    "    except Exception as e:\n",
    "        print(f\"Skipping word: {word}\")"
   ]
  },
  {
   "cell_type": "code",
   "execution_count": 12,
   "id": "6d20e6f8-c713-4064-ae21-5ec37a396ce6",
   "metadata": {},
   "outputs": [],
   "source": [
    "#save wordlists\n",
    "np.save(\"embedded element lists/embedded_words_ST.npy\", embedded_words)\n",
    "np.save(\"embedded element lists/embeddings_ST.npy\", embeddings)"
   ]
  }
 ],
 "metadata": {
  "kernelspec": {
   "display_name": "Python 3 (ipykernel)",
   "language": "python",
   "name": "python3"
  },
  "language_info": {
   "codemirror_mode": {
    "name": "ipython",
    "version": 3
   },
   "file_extension": ".py",
   "mimetype": "text/x-python",
   "name": "python",
   "nbconvert_exporter": "python",
   "pygments_lexer": "ipython3",
   "version": "3.12.2"
  }
 },
 "nbformat": 4,
 "nbformat_minor": 5
}
