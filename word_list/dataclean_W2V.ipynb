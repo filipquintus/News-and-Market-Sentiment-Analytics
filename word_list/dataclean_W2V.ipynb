{
 "cells": [
  {
   "cell_type": "code",
   "execution_count": 1,
   "id": "18ca6350-2510-45ad-98ca-a93593c0247e",
   "metadata": {},
   "outputs": [],
   "source": [
    "#Load packeges:\n",
    "\n",
    "import spacy\n",
    "import pandas as pd\n",
    "from sentence_transformers import SentenceTransformer \n",
    "import kagglehub\n",
    "from gensim.models import KeyedVectors\n",
    "import numpy as np\n",
    "from sklearn.metrics.pairwise import cosine_similarity\n",
    "\n",
    "\n",
    "#Model to extract class of words\n",
    "nlp = spacy.load(\"en_core_web_sm\")\n"
   ]
  },
  {
   "cell_type": "code",
   "execution_count": 2,
   "id": "6f47ae37-6a10-4b81-9c6d-108e28e2d55e",
   "metadata": {},
   "outputs": [],
   "source": [
    "# Load the pre-trained Word2Vec model\n",
    "\n",
    "# BE AWARE THAT THIS DOWNLOADS THE GoogleNews-vectors-negative300 MODEL WHICH TAKES UP 3.64 GB\n",
    "# If a problem arises, the model can be downloaded manually from: https://www.kaggle.com/datasets/leadbest/googlenewsvectorsnegative300\n",
    "path = kagglehub.dataset_download(\"leadbest/googlenewsvectorsnegative300\")\n",
    "\n",
    "print(\"Path to dataset files:\", path)\n",
    "\n",
    "word2vec_model = KeyedVectors.load_word2vec_format(word2vec_path, binary=True)"
   ]
  },
  {
   "cell_type": "code",
   "execution_count": 4,
   "id": "c7a1e763-0700-4958-80d4-597fcc176634",
   "metadata": {},
   "outputs": [],
   "source": [
    "# Word embedding:\n",
    "\n",
    "def embedding_function(word):\n",
    "    embedded_word = word2vec_model[word]\n",
    "    return embedded_word\n"
   ]
  },
  {
   "cell_type": "code",
   "execution_count": 5,
   "id": "d66830f4-51b9-4d32-ab96-8a34f44528ef",
   "metadata": {},
   "outputs": [],
   "source": [
    "\n",
    "# load list of words\n",
    "with open(\"data/large_word_list.txt\", 'r') as file:\n",
    "    word_list = [line.strip() for line in file]  # Remove trailing newlines and spaces\n",
    "\n"
   ]
  },
  {
   "cell_type": "code",
   "execution_count": 6,
   "id": "04349423-6460-42b7-840d-d8e151f5ab6a",
   "metadata": {},
   "outputs": [
    {
     "name": "stdout",
     "output_type": "stream",
     "text": [
      "10000\n"
     ]
    }
   ],
   "source": [
    "print(len(word_list))"
   ]
  },
  {
   "cell_type": "code",
   "execution_count": 7,
   "id": "ec794ee7-09ab-4871-a26b-b57a7b33a770",
   "metadata": {
    "scrolled": true
   },
   "outputs": [],
   "source": [
    "#Extracts the nouns and reduces words to base form\n",
    "nouns = []\n",
    "\n",
    "for word in word_list:\n",
    "    doc = nlp(word)  \n",
    "    for token in doc:  # Iterate through tokens in the processed word\n",
    "        word_base = token.lemma_  # Extract the base form \n",
    "        pos_tag = token.pos_  # Extract word class tag\n",
    "        if pos_tag == \"NOUN\":\n",
    "            nouns.append(word_base)  # Append to nouns if it's a noun\n",
    "\n",
    "# Removes dublicates from list:\n",
    "nouns = list(set(nouns))"
   ]
  },
  {
   "cell_type": "code",
   "execution_count": 8,
   "id": "a40c3901-fca3-4b40-bdd6-a8067a48e2fb",
   "metadata": {},
   "outputs": [
    {
     "name": "stdout",
     "output_type": "stream",
     "text": [
      "3595\n"
     ]
    }
   ],
   "source": [
    "\n",
    "print(len(nouns))"
   ]
  },
  {
   "cell_type": "code",
   "execution_count": 9,
   "id": "b051aa35-9625-4843-abb4-52efca880c7e",
   "metadata": {},
   "outputs": [
    {
     "name": "stdout",
     "output_type": "stream",
     "text": [
      "Skipping missing word: favourite\n",
      "Skipping missing word: tripadvisor\n",
      "Skipping missing word: worldsex\n",
      "Skipping missing word: kelkoo\n",
      "Skipping missing word: papua\n",
      "Skipping missing word: looksmart\n",
      "Skipping missing word: feof\n",
      "Skipping missing word: tanzania\n",
      "Skipping missing word: licence\n",
      "Skipping missing word: msgstr\n",
      "Skipping missing word: enquiry\n",
      "Skipping missing word: worldcat\n",
      "Skipping missing word: myer\n",
      "Skipping missing word: kijiji\n",
      "Skipping missing word: centre\n",
      "Skipping missing word: customise\n",
      "Skipping missing word: colour\n",
      "Skipping missing word: marriott\n",
      "Skipping missing word: sagem\n",
      "Skipping missing word: knowledgestorm\n",
      "Skipping missing word: sexcam\n",
      "Skipping missing word: smilie\n",
      "Skipping missing word: voyuer\n",
      "Skipping missing word: lexmark\n",
      "Skipping missing word: metre\n",
      "Skipping missing word: forbe\n",
      "Skipping missing word: athen\n",
      "Skipping missing word: acdbentity\n",
      "Skipping missing word: expansys\n",
      "Skipping missing word: specifie\n",
      "Skipping missing word: lithuania\n",
      "Skipping missing word: isbn\n",
      "Skipping missing word: angola\n",
      "Skipping missing word: traveller\n",
      "Skipping missing word: hotelscom\n",
      "Skipping missing word: nichola\n",
      "Skipping missing word: dealtime\n",
      "Skipping missing word: naple\n",
      "Skipping missing word: livecam\n",
      "Skipping missing word: minolta\n",
      "Skipping missing word: transexuale\n",
      "Skipping missing word: ampland\n",
      "Skipping missing word: fibre\n",
      "Skipping missing word: pgp\n",
      "Skipping missing word: webshot\n",
      "Skipping missing word: helena\n",
      "Skipping missing word: shopzilla\n",
      "Skipping missing word: listprice\n",
      "Skipping missing word: zshop\n",
      "Skipping missing word: olympu\n",
      "Skipping missing word: charle\n",
      "Skipping missing word: holme\n",
      "Skipping missing word: programme\n",
      "Skipping missing word: epinionscom\n",
      "Skipping missing word: milfhunter\n",
      "Skipping missing word: boc\n",
      "Skipping missing word: theatre\n",
      "Skipping missing word: maldive\n",
      "Skipping missing word: gibraltar\n",
      "Skipping missing word: jewellery\n",
      "Skipping missing word: livesex\n",
      "Skipping missing word: starsmerchant\n",
      "Skipping missing word: labour\n",
      "Skipping missing word: andale\n",
      "Skipping missing word: catalogue\n",
      "Skipping missing word: thumbzilla\n",
      "Skipping missing word: citysearch\n",
      "Skipping missing word: arkansa\n",
      "Skipping missing word: samoa\n",
      "Skipping missing word: defence\n",
      "Skipping missing word: newscom\n",
      "Skipping missing word: beastality\n",
      "Skipping missing word: hondura\n",
      "Skipping missing word: vsnet\n",
      "Skipping missing word: epinion\n",
      "Skipping missing word: bahama\n",
      "Skipping missing word: hopkin\n",
      "Skipping missing word: paraguay\n",
      "Skipping missing word: medline\n",
      "Skipping missing word: behaviour\n",
      "Skipping missing word: findarticle\n",
      "Skipping missing word: belarus\n",
      "Skipping missing word: cameroon\n",
      "Skipping missing word: organisation\n",
      "Skipping missing word: findlaw\n",
      "Skipping missing word: verzeichni\n",
      "Skipping missing word: itune\n",
      "Skipping missing word: emac\n",
      "Skipping missing word: usg\n",
      "Skipping missing word: muze\n",
      "Skipping missing word: adida\n",
      "Skipping missing word: trembl\n",
      "Skipping missing word: aluminium\n",
      "Skipping missing word: angele\n",
      "Skipping missing word: ipaq\n",
      "Skipping missing word: cheque\n",
      "Skipping missing word: adaptor\n",
      "Skipping missing word: identifie\n",
      "Skipping missing word: reuter\n",
      "Skipping missing word: aspnet\n"
     ]
    }
   ],
   "source": [
    "#Embedding all the nouns and adding both embeddings and word to lists\n",
    "\n",
    "embeddings = []\n",
    "embedded_words = []\n",
    "\n",
    "for word in nouns:\n",
    "    if word not in word2vec_model:\n",
    "        print(f\"Skipping missing word: {word}\")\n",
    "    else:\n",
    "        current_embedded_word = embedding_function(word)\n",
    "        \n",
    "        embeddings.append(current_embedded_word)\n",
    "        embedded_words.append(word)\n"
   ]
  },
  {
   "cell_type": "code",
   "execution_count": 34,
   "id": "6d20e6f8-c713-4064-ae21-5ec37a396ce6",
   "metadata": {},
   "outputs": [],
   "source": [
    "#save word\n",
    "np.save(\"embedded element lists/embedded_words_W2V.npy\", embedded_words)\n",
    "np.save(\"embedded element lists/embeddings_W2V.npy\", embeddings)"
   ]
  }
 ],
 "metadata": {
  "kernelspec": {
   "display_name": "Python 3 (ipykernel)",
   "language": "python",
   "name": "python3"
  },
  "language_info": {
   "codemirror_mode": {
    "name": "ipython",
    "version": 3
   },
   "file_extension": ".py",
   "mimetype": "text/x-python",
   "name": "python",
   "nbconvert_exporter": "python",
   "pygments_lexer": "ipython3",
   "version": "3.12.2"
  }
 },
 "nbformat": 4,
 "nbformat_minor": 5
}
